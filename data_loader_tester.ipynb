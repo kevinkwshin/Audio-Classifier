{
 "cells": [
  {
   "cell_type": "code",
   "execution_count": 1,
   "metadata": {},
   "outputs": [
    {
     "name": "stdout",
     "output_type": "stream",
     "text": [
      "torch.Size([100, 1, 120, 401]) 100\n",
      "torch.Size([100, 1, 120, 401]) 100\n",
      "torch.Size([35, 1, 120, 401]) 35\n"
     ]
    }
   ],
   "source": [
    "from custom_wav_loader import wavLoader\n",
    "import torch\n",
    "\n",
    "dataset = wavLoader('dataset/test')\n",
    "\n",
    "test_loader = torch.utils.data.DataLoader(dataset, batch_size=100, shuffle=None,num_workers=4, pin_memory=True, sampler=None)\n",
    "\n",
    "for k, (input,label) in enumerate(test_loader):\n",
    "    print(input.size(), len(label))\n",
    "    \n",
    "## need to check wav file is correctly imported"
   ]
  },
  {
   "cell_type": "code",
   "execution_count": 2,
   "metadata": {},
   "outputs": [
    {
     "name": "stderr",
     "output_type": "stream",
     "text": [
      "Without the incoming socket you cannot receive events from the server or register event handlers to your Visdom client.\n"
     ]
    }
   ],
   "source": [
    "import visdom\n",
    "import numpy as np\n",
    "import matplotlib.pyplot as plt\n",
    "vis = visdom.Visdom(use_incoming_socket=False)"
   ]
  },
  {
   "cell_type": "code",
   "execution_count": 3,
   "metadata": {},
   "outputs": [
    {
     "data": {
      "text/plain": [
       "'window_368d6d6664caf8'"
      ]
     },
     "execution_count": 3,
     "metadata": {},
     "output_type": "execute_result"
    }
   ],
   "source": [
    "import librosa\n",
    "y,sr = librosa.load('test.wav')\n",
    "melgram = librosa.amplitude_to_db(librosa.feature.melspectrogram(y, sr=sr, n_mels=120,n_fft=1024))\n",
    "# print(melgram[0])\n",
    "vis.heatmap(melgram,opts=dict(title='test.wav'))\n",
    "# vis.heatmap(melgram[0:20],opts=dict(title='test.wav'))"
   ]
  },
  {
   "cell_type": "code",
   "execution_count": 4,
   "metadata": {},
   "outputs": [
    {
     "data": {
      "text/plain": [
       "'window_368d6d6684af84'"
      ]
     },
     "execution_count": 4,
     "metadata": {},
     "output_type": "execute_result"
    }
   ],
   "source": [
    "import librosa\n",
    "y,sr = librosa.load('test_eq.wav')\n",
    "melgram = librosa.amplitude_to_db(librosa.feature.melspectrogram(y, sr=sr, n_mels=120,n_fft=1024))\n",
    "# melgram = melgram[0]# print(melgram[0])\n",
    "vis.heatmap(melgram,opts=dict(title='test_eq.wav'))\n",
    "# vis.heatmap(melgram[0:20],opts=dict(title='test_eq.wav'))"
   ]
  },
  {
   "cell_type": "code",
   "execution_count": 5,
   "metadata": {},
   "outputs": [
    {
     "data": {
      "text/plain": [
       "'window_368d6d66a40f78'"
      ]
     },
     "execution_count": 5,
     "metadata": {},
     "output_type": "execute_result"
    }
   ],
   "source": [
    "import librosa\n",
    "y,sr = librosa.load('test_eq2.wav')\n",
    "melgram = librosa.amplitude_to_db(librosa.feature.melspectrogram(y, sr=sr, n_mels=120,n_fft=1024))\n",
    "vis.heatmap(melgram,opts=dict(title='test_eq2.wav'))\n",
    "# vis.heatmap(melgram[0:20],opts=dict(title='test_eq2.wav'))"
   ]
  },
  {
   "cell_type": "code",
   "execution_count": null,
   "metadata": {},
   "outputs": [],
   "source": [
    "# from scipy import signal\n",
    "# import matplotlib.pyplot as plt\n",
    "# import numpy as np\n",
    "# # plt.pcolormesh(t, f, np.abs(Zxx), vmin=0, vmax=amp)\n",
    "# plt.plot(dataset[0][0][0][0].numpy())\n",
    "# len(dataset[0][0][0][0].numpy())\n",
    "\n",
    "# t = np.arange(0,1.01,.01)\n",
    "# print(len(t))\n",
    "# print(len(dataset[0][0][0][0].numpy()))\n",
    "\n",
    "# # plt.plot(dataset[0][0][0].numpy())"
   ]
  },
  {
   "cell_type": "code",
   "execution_count": 6,
   "metadata": {},
   "outputs": [
    {
     "name": "stdout",
     "output_type": "stream",
     "text": [
      "120\n"
     ]
    },
    {
     "data": {
      "text/plain": [
       "'window_368d6d673238dc'"
      ]
     },
     "execution_count": 6,
     "metadata": {},
     "output_type": "execute_result"
    }
   ],
   "source": [
    "print(len(dataset[0][0][0]))\n",
    "vis.heatmap(dataset[0][0][0])"
   ]
  },
  {
   "cell_type": "code",
   "execution_count": null,
   "metadata": {},
   "outputs": [],
   "source": [
    "len(dataset[0][0][0][0])\n",
    "# vis.audio(dataset[0][0][0][0])"
   ]
  },
  {
   "cell_type": "code",
   "execution_count": null,
   "metadata": {},
   "outputs": [],
   "source": [
    "from custom_wav_loader import spect_loader\n",
    "path='dataset/test/Lt OLV/2018:4:25:8:32:20 to 2018:4:25:8:33:26_Lt OLV000.wav'\n",
    "window_size=0.02\n",
    "window_stride=0.01\n",
    "window_type='hamming'\n",
    "window = True\n",
    "normalize=True\n",
    "a=spect_loader(path, window_size, window_stride, window, normalize, max_len=700)[0][0]"
   ]
  },
  {
   "cell_type": "code",
   "execution_count": null,
   "metadata": {},
   "outputs": [],
   "source": [
    "# spect_loader(path, window_size, window_stride, window, normalize, max_len=800)\n",
    "plt.plot(spect_loader(path, window_size, window_stride, window, normalize, max_len=700).numpy()[0][0])"
   ]
  },
  {
   "cell_type": "code",
   "execution_count": null,
   "metadata": {},
   "outputs": [],
   "source": [
    "window_size=0.005   # 0.02\n",
    "window_stride=0.01 # 0.01\n",
    "window_type='hamming'\n",
    "normalize=True\n",
    "max_len=800\n",
    "\n",
    "path='test.wav'\n",
    "y, sr = librosa.load(path, sr=None)\n",
    "n_fft = int(sr * window_size)\n",
    "win_length = n_fft\n",
    "hop_length = int(sr * window_stride)\n",
    "print('sr',sr)\n",
    "print('n_fft',n_fft)\n",
    "print('win_length',win_length)\n",
    "print('hop_length',hop_length)\n",
    "\n",
    "# STFT\n",
    "\n",
    "melgram = librosa.amplitude_to_db(librosa.feature.melspectrogram(y, sr=sr, n_mels=120,n_fft=1024))\n",
    "\n",
    "# D = librosa.stft(y, n_fft=n_fft, hop_length=hop_length, win_length=win_length, window=window_type)\n",
    "# spect, phase = librosa.magphase(D)\n",
    "\n",
    "vis.heatmap(melgram,opts=dict(title='mel'))\n",
    "# vis.heatmap(spect,opts=dict(title='1st'))\n",
    "\n",
    "# spect = np.log1p(spect)\n",
    "# vis.heatmap(spect[0:20],opts=dict(title='after log'))"
   ]
  },
  {
   "cell_type": "code",
   "execution_count": null,
   "metadata": {},
   "outputs": [],
   "source": [
    "# make all spects with the same dims\n",
    "# TODO: change that in the future\n",
    "if spect.shape[1] < max_len:\n",
    "    pad = np.zeros((spect.shape[0], max_len - spect.shape[1]))\n",
    "    spect = np.hstack((spect, pad))\n",
    "elif spect.shape[1] > max_len:\n",
    "    spect = spect[:, :max_len]\n",
    "\n",
    "# spect = np.resize(spect, (1, spect.shape[0], spect.shape[1]))\n",
    "# spect = torch.FloatTensor(spect)\n",
    "\n",
    "# # z-score normalization\n",
    "# if normalize:\n",
    "#     mean = spect.mean()\n",
    "#     std = spect.std()\n",
    "#     if std != 0:\n",
    "#         spect.add_(-mean)\n",
    "#         spect.div_(std)\n"
   ]
  },
  {
   "cell_type": "code",
   "execution_count": null,
   "metadata": {},
   "outputs": [],
   "source": [
    "vis.heatmap(spect,opts=dict(title='hey'))"
   ]
  },
  {
   "cell_type": "code",
   "execution_count": null,
   "metadata": {},
   "outputs": [],
   "source": [
    "len(spect[0])"
   ]
  },
  {
   "cell_type": "code",
   "execution_count": null,
   "metadata": {},
   "outputs": [],
   "source": [
    "len(melgram[0])"
   ]
  },
  {
   "cell_type": "code",
   "execution_count": null,
   "metadata": {},
   "outputs": [],
   "source": []
  }
 ],
 "metadata": {
  "kernelspec": {
   "display_name": "Python 3",
   "language": "python",
   "name": "python3"
  },
  "language_info": {
   "codemirror_mode": {
    "name": "ipython",
    "version": 3
   },
   "file_extension": ".py",
   "mimetype": "text/x-python",
   "name": "python",
   "nbconvert_exporter": "python",
   "pygments_lexer": "ipython3",
   "version": "3.5.2"
  }
 },
 "nbformat": 4,
 "nbformat_minor": 2
}
